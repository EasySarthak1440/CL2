{
 "cells": [
  {
   "cell_type": "markdown",
   "metadata": {},
   "source": [
    " Build the web crawler to pull product information and links from an e-commerce website"
   ]
  },
  {
   "cell_type": "code",
   "execution_count": 1,
   "metadata": {
    "colab": {
     "base_uri": "https://localhost:8080/"
    },
    "id": "dlfGg_K3Fs38",
    "outputId": "6a4503eb-5145-412f-e408-fcd94d82af89"
   },
   "outputs": [
    {
     "name": "stdout",
     "output_type": "stream",
     "text": [
      "Test Site Link: /test-sites/e-commerce/allinone\n",
      "Test Site Link: /test-sites/e-commerce/static\n",
      "Test Site Link: /test-sites/e-commerce/ajax\n",
      "Test Site Link: /test-sites/e-commerce/more\n",
      "Test Site Link: /test-sites/e-commerce/scroll\n",
      "Test Site Link: /test-sites/tables\n"
     ]
    }
   ],
   "source": [
    "import requests\n",
    "from bs4 import BeautifulSoup\n",
    "\n",
    "# Define the URL of the webpage you want to scrape\n",
    "url = \"https://webscraper.io/test-sites\"\n",
    "\n",
    "# Send a GET request to the URL\n",
    "response = requests.get(url)\n",
    "\n",
    "# Check if the request was successful (status code 200)\n",
    "if response.status_code == 200:\n",
    "    # Parse the HTML content of the page using BeautifulSoup\n",
    "    soup = BeautifulSoup(response.text, 'html.parser')\n",
    "\n",
    "    # Find all anchor (a) tags with class 'site-heading' within a div with class 'test-site'\n",
    "    test_site_links = soup.find_all('div', class_='test-site')\n",
    "\n",
    "    # Extract and print the links\n",
    "    for site in test_site_links:\n",
    "        site_link = site.find('a')['href']\n",
    "        print(\"Test Site Link:\", site_link)\n",
    "else:\n",
    "    print(\"Failed to retrieve the page. Status code:\", response.status_code)\n"
   ]
  }
 ],
 "metadata": {
  "colab": {
   "provenance": []
  },
  "kernelspec": {
   "display_name": "Python 3 (ipykernel)",
   "language": "python",
   "name": "python3"
  },
  "language_info": {
   "codemirror_mode": {
    "name": "ipython",
    "version": 3
   },
   "file_extension": ".py",
   "mimetype": "text/x-python",
   "name": "python",
   "nbconvert_exporter": "python",
   "pygments_lexer": "ipython3",
   "version": "3.11.4"
  }
 },
 "nbformat": 4,
 "nbformat_minor": 1
}
