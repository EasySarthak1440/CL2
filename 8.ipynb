{
 "cells": [
  {
   "cell_type": "markdown",
   "id": "a61632e9",
   "metadata": {},
   "source": [
    "Arduino Code (using an Arduino Uno)"
   ]
  },
  {
   "cell_type": "raw",
   "id": "8b42af19",
   "metadata": {},
   "source": [
    "int knockSensor=0;\n",
    "void setup(){\n",
    "pinMode(2,INPUT);\n",
    "pinMode(LED_BUILTIN,OUTPUT);\n",
    "Serial.begin(9600);\n",
    "}"
   ]
  },
  {
   "cell_type": "raw",
   "id": "cb4ed110",
   "metadata": {},
   "source": [
    "void loop()\n",
    "{\n",
    "knockSensor=digitalRead(2);\n",
    "if(knockSensor==HIGH)\n",
    "{\n",
    "digitalWrite(LED_BUILTIN,HIGH);\n",
    "Serial.println(\"sensor activated\");\n",
    "}\n",
    "else{\n",
    "digitalWrite(LED_BUILTIN,LOW);\n",
    "}\n",
    "}"
   ]
  }
 ],
 "metadata": {
  "kernelspec": {
   "display_name": "Python 3 (ipykernel)",
   "language": "python",
   "name": "python3"
  },
  "language_info": {
   "codemirror_mode": {
    "name": "ipython",
    "version": 3
   },
   "file_extension": ".py",
   "mimetype": "text/x-python",
   "name": "python",
   "nbconvert_exporter": "python",
   "pygments_lexer": "ipython3",
   "version": "3.11.4"
  }
 },
 "nbformat": 4,
 "nbformat_minor": 5
}
